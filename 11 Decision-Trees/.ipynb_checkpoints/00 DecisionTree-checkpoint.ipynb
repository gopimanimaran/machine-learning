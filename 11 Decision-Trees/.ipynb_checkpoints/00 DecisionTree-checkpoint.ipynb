{
 "cells": [
  {
   "cell_type": "code",
   "execution_count": null,
   "id": "37ab0516-cb8f-4c24-95be-a8f5bd0dbf53",
   "metadata": {},
   "outputs": [],
   "source": [
    "import numpy as np\n",
    "import pandas as pd\n",
    "import matplotlib.pyplot as plt\n",
    "import seaborn as sns"
   ]
  },
  {
   "cell_type": "code",
   "execution_count": null,
   "id": "e9ead4b7-806c-416e-87d3-42b3f5bf7ce1",
   "metadata": {},
   "outputs": [],
   "source": [
    "df = pd.read_csv('../DATA/penguins_size.csv')"
   ]
  },
  {
   "cell_type": "code",
   "execution_count": null,
   "id": "1e7b6cfd-b069-4f55-8c79-6b5ca82b6a69",
   "metadata": {},
   "outputs": [],
   "source": [
    "df.head()"
   ]
  },
  {
   "cell_type": "code",
   "execution_count": null,
   "id": "5ee94d50-a791-41e8-9bd8-9300ca81a53c",
   "metadata": {},
   "outputs": [],
   "source": [
    "df['species'].unique()"
   ]
  },
  {
   "cell_type": "code",
   "execution_count": null,
   "id": "1373d3d5-2350-4d9c-b16c-39fdefbf2865",
   "metadata": {},
   "outputs": [],
   "source": [
    "df.info()"
   ]
  },
  {
   "cell_type": "code",
   "execution_count": null,
   "id": "109b9d01-222e-4ff8-b7e1-773c024b07cb",
   "metadata": {},
   "outputs": [],
   "source": [
    "df.isnull().sum()"
   ]
  },
  {
   "cell_type": "code",
   "execution_count": null,
   "id": "edeb61c3-5ae1-4e2c-8930-4492f52b73bf",
   "metadata": {},
   "outputs": [],
   "source": [
    "df = df.dropna()"
   ]
  },
  {
   "cell_type": "code",
   "execution_count": null,
   "id": "291beeae-6b39-406b-bfa7-fc1b42c1f370",
   "metadata": {},
   "outputs": [],
   "source": [
    "df.info()"
   ]
  },
  {
   "cell_type": "code",
   "execution_count": null,
   "id": "b59585f0-fe6f-4021-8aba-5dafae5019bd",
   "metadata": {},
   "outputs": [],
   "source": [
    "df.head()"
   ]
  },
  {
   "cell_type": "code",
   "execution_count": null,
   "id": "9de2bb18-6d9d-48e4-beab-30738ea4a675",
   "metadata": {},
   "outputs": [],
   "source": [
    "#Check how many island sex and species are there \"unique\"\n",
    "df['species'].unique()"
   ]
  },
  {
   "cell_type": "code",
   "execution_count": null,
   "id": "c15bf160-43dd-416e-9f64-6d036928d754",
   "metadata": {},
   "outputs": [],
   "source": [
    "df['island'].unique()"
   ]
  },
  {
   "cell_type": "code",
   "execution_count": null,
   "id": "0014b538-f767-43dd-91c4-bdfd47f5e1cb",
   "metadata": {},
   "outputs": [],
   "source": [
    "df['sex'].unique()"
   ]
  },
  {
   "cell_type": "code",
   "execution_count": null,
   "id": "d396fa4d-5984-4818-99e2-c22a1606a698",
   "metadata": {},
   "outputs": [],
   "source": [
    "df[df['sex'] == '.']"
   ]
  },
  {
   "cell_type": "code",
   "execution_count": null,
   "id": "1cc57233-51af-46f0-8394-9f3b33ca59f3",
   "metadata": {},
   "outputs": [],
   "source": [
    "df[df['species'] == 'Gentoo'].groupby('sex').describe()"
   ]
  },
  {
   "cell_type": "code",
   "execution_count": null,
   "id": "8f09c951-7142-4900-b56e-90335e7d8ebf",
   "metadata": {},
   "outputs": [],
   "source": [
    "df[df['species'] == 'Gentoo'].groupby('sex').describe().transpose()"
   ]
  },
  {
   "cell_type": "code",
   "execution_count": null,
   "id": "d9903b9a-9b7e-42d3-af58-3139c12848a8",
   "metadata": {},
   "outputs": [],
   "source": [
    "df.at[336,'sex'] = 'FEMALE'"
   ]
  },
  {
   "cell_type": "code",
   "execution_count": null,
   "id": "db670abb-ac20-49a8-89f0-89939459cb6b",
   "metadata": {},
   "outputs": [],
   "source": [
    "df.loc[336]"
   ]
  },
  {
   "cell_type": "code",
   "execution_count": null,
   "id": "e420d4b6-8174-4583-9bbd-86004f7dd6c5",
   "metadata": {},
   "outputs": [],
   "source": [
    "sns.pairplot(data=df,hue='species')"
   ]
  },
  {
   "cell_type": "code",
   "execution_count": null,
   "id": "75f35f89-79f8-4a12-baa4-778ecdd28d29",
   "metadata": {},
   "outputs": [],
   "source": [
    "sns.catplot(data=df,x='species',y='culmen_length_mm',kind='box',col='sex')"
   ]
  },
  {
   "cell_type": "code",
   "execution_count": null,
   "id": "0c459c79-91d2-4454-ac10-9a8041f6ab67",
   "metadata": {},
   "outputs": [],
   "source": [
    "#Lets create dummies for categorical column\n",
    "df['island']"
   ]
  },
  {
   "cell_type": "code",
   "execution_count": null,
   "id": "61e1610d-723f-4d8a-82cf-dfb865be2f84",
   "metadata": {},
   "outputs": [],
   "source": [
    "X = pd.get_dummies(df.drop('species',axis=1),dtype='int',drop_first=True)"
   ]
  },
  {
   "cell_type": "code",
   "execution_count": null,
   "id": "d1657fbd-c348-4d3f-b7a4-e0de737625ca",
   "metadata": {},
   "outputs": [],
   "source": [
    "y = df['species']"
   ]
  },
  {
   "cell_type": "code",
   "execution_count": null,
   "id": "73606696-9039-4591-8d68-3c98ba67e028",
   "metadata": {},
   "outputs": [],
   "source": [
    "from sklearn.model_selection import train_test_split\n",
    "X_train, X_test, y_train, y_test = train_test_split(X, y, test_size=0.3, random_state=101)"
   ]
  },
  {
   "cell_type": "code",
   "execution_count": null,
   "id": "218442b5-5047-46f9-9605-2f916ce30726",
   "metadata": {},
   "outputs": [],
   "source": [
    "from sklearn.tree import DecisionTreeClassifier"
   ]
  },
  {
   "cell_type": "code",
   "execution_count": null,
   "id": "4b636b66-a122-4b7f-9f69-251261ad9592",
   "metadata": {},
   "outputs": [],
   "source": [
    "model = DecisionTreeClassifier()"
   ]
  },
  {
   "cell_type": "code",
   "execution_count": null,
   "id": "5fd226dd-db7c-4c39-8ace-c6c3bfe96498",
   "metadata": {},
   "outputs": [],
   "source": [
    "model.fit(X_train,y_train)"
   ]
  },
  {
   "cell_type": "code",
   "execution_count": null,
   "id": "b28aabde-b655-413f-9ae2-e352dde63ce7",
   "metadata": {},
   "outputs": [],
   "source": [
    "base_pred = model.predict(X_test)"
   ]
  },
  {
   "cell_type": "code",
   "execution_count": null,
   "id": "37298d38-5254-49a1-b560-59456cf7a299",
   "metadata": {},
   "outputs": [],
   "source": [
    "from sklearn.metrics import classification_report"
   ]
  },
  {
   "cell_type": "code",
   "execution_count": null,
   "id": "9c9af84a-dc6d-4c83-b745-1ec3245087ed",
   "metadata": {},
   "outputs": [],
   "source": [
    "print(classification_report(y_test,base_pred))"
   ]
  },
  {
   "cell_type": "code",
   "execution_count": null,
   "id": "0eab0c5b-5635-44ed-9e70-185e9bc2bd0e",
   "metadata": {},
   "outputs": [],
   "source": [
    "model.feature_importances_"
   ]
  },
  {
   "cell_type": "code",
   "execution_count": null,
   "id": "c8c4ff43-219a-4511-a958-9aa6001936fe",
   "metadata": {},
   "outputs": [],
   "source": [
    "X.columns"
   ]
  },
  {
   "cell_type": "code",
   "execution_count": null,
   "id": "cbe20c1a-8322-436b-b5c8-0d2ca81f11fd",
   "metadata": {},
   "outputs": [],
   "source": [
    "pd.DataFrame(index=X.columns,data=model.feature_importances_,columns=['Feature importance']).sort_values('Feature importance')"
   ]
  },
  {
   "cell_type": "code",
   "execution_count": null,
   "id": "7df4a668-9092-4798-81e8-e3653ca07d24",
   "metadata": {},
   "outputs": [],
   "source": [
    "from sklearn.tree import plot_tree\n",
    "plot_tree(model)"
   ]
  },
  {
   "cell_type": "code",
   "execution_count": null,
   "id": "58f4ab4e-b78b-42b3-8b6a-24a6f1d09134",
   "metadata": {},
   "outputs": [],
   "source": [
    "#semicolon to print only image\n",
    "plot_tree(model);"
   ]
  },
  {
   "cell_type": "code",
   "execution_count": null,
   "id": "7c792051-e15d-421a-9cd2-cccb7aa83720",
   "metadata": {},
   "outputs": [],
   "source": [
    "plt.figure(figsize=(12,12),dpi=200)\n",
    "plot_tree(model,feature_names=X.columns,filled=True);"
   ]
  },
  {
   "cell_type": "code",
   "execution_count": null,
   "id": "0c2bca54-7230-4496-9596-9adb7acc9759",
   "metadata": {},
   "outputs": [],
   "source": [
    "def report_model(model):\n",
    "    model_pred = model.predict(X_test)\n",
    "    print(classification_report(y_test,model_pred))\n",
    "    print('\\n')\n",
    "    plt.figure(figsize=(12,12),dpi=200)\n",
    "    plot_tree(model,feature_names=X.columns,filled=True);"
   ]
  },
  {
   "cell_type": "code",
   "execution_count": null,
   "id": "bc11fe3d-b223-4296-b68f-ccdb2df849de",
   "metadata": {},
   "outputs": [],
   "source": [
    "report_model(model)"
   ]
  },
  {
   "cell_type": "code",
   "execution_count": null,
   "id": "93b0b3b8-9ae2-4f42-bfbd-1635d5909712",
   "metadata": {},
   "outputs": [],
   "source": [
    "#max_depth\n",
    "max_depth_tree = DecisionTreeClassifier(max_depth=2)\n",
    "max_depth_tree.fit(X_train,y_train)\n",
    "report_model(max_depth_tree)"
   ]
  },
  {
   "cell_type": "code",
   "execution_count": null,
   "id": "ecbd760c-f6d6-468a-8de1-d652e8ee3f2d",
   "metadata": {},
   "outputs": [],
   "source": [
    "#max_leafs\n",
    "max_leaf_tree = DecisionTreeClassifier(max_leaf_nodes=3)\n",
    "max_leaf_tree.fit(X_train,y_train)\n",
    "report_model(max_leaf_tree)"
   ]
  },
  {
   "cell_type": "code",
   "execution_count": null,
   "id": "1b623912-1335-47fb-8849-afec5422c774",
   "metadata": {},
   "outputs": [],
   "source": [
    "model_entropy = DecisionTreeClassifier(criterion='entropy')\n",
    "model_entropy.fit(X_train,y_train)\n",
    "report_model(model_entropy)"
   ]
  },
  {
   "cell_type": "code",
   "execution_count": null,
   "id": "c78fec0e-a842-498e-915a-999b17e11b4a",
   "metadata": {},
   "outputs": [],
   "source": []
  }
 ],
 "metadata": {
  "kernelspec": {
   "display_name": "Python 3 (ipykernel)",
   "language": "python",
   "name": "python3"
  },
  "language_info": {
   "codemirror_mode": {
    "name": "ipython",
    "version": 3
   },
   "file_extension": ".py",
   "mimetype": "text/x-python",
   "name": "python",
   "nbconvert_exporter": "python",
   "pygments_lexer": "ipython3",
   "version": "3.11.7"
  }
 },
 "nbformat": 4,
 "nbformat_minor": 5
}
