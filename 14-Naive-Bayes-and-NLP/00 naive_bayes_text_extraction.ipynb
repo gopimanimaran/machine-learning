{
 "cells": [
  {
   "cell_type": "code",
   "execution_count": 1,
   "id": "870ba376-57c1-4068-9cd7-25211a090046",
   "metadata": {},
   "outputs": [],
   "source": [
    "text = ['This is a line',\n",
    "       'This is a second line',\n",
    "       'This is again another line']"
   ]
  },
  {
   "cell_type": "code",
   "execution_count": 2,
   "id": "0a32f077-a896-4776-83aa-d572a9ccc851",
   "metadata": {},
   "outputs": [],
   "source": [
    "from sklearn.feature_extraction.text import CountVectorizer"
   ]
  },
  {
   "cell_type": "code",
   "execution_count": 3,
   "id": "715dbc98-ddac-4554-8362-a5afd17fd198",
   "metadata": {},
   "outputs": [],
   "source": [
    "cv = CountVectorizer()\n",
    "#Can pass stop_words='english' or another list of words as arguments "
   ]
  },
  {
   "cell_type": "code",
   "execution_count": 5,
   "id": "d64723b3-f950-43c1-9548-9e67ad1b1968",
   "metadata": {},
   "outputs": [],
   "source": [
    "sparse_matrix = cv.fit_transform(text)"
   ]
  },
  {
   "cell_type": "code",
   "execution_count": 6,
   "id": "50987c98-5724-43e1-aa8a-41145b37abb0",
   "metadata": {},
   "outputs": [
    {
     "data": {
      "text/plain": [
       "<3x6 sparse matrix of type '<class 'numpy.int64'>'\n",
       "\twith 12 stored elements in Compressed Sparse Row format>"
      ]
     },
     "execution_count": 6,
     "metadata": {},
     "output_type": "execute_result"
    }
   ],
   "source": [
    "sparse_matrix"
   ]
  },
  {
   "cell_type": "code",
   "execution_count": 7,
   "id": "89136458-5271-428d-bec2-9324f336d0ea",
   "metadata": {},
   "outputs": [
    {
     "data": {
      "text/plain": [
       "matrix([[0, 0, 1, 1, 0, 1],\n",
       "        [0, 0, 1, 1, 1, 1],\n",
       "        [1, 1, 1, 1, 0, 1]], dtype=int64)"
      ]
     },
     "execution_count": 7,
     "metadata": {},
     "output_type": "execute_result"
    }
   ],
   "source": [
    "sparse_matrix.todense()"
   ]
  },
  {
   "cell_type": "code",
   "execution_count": 8,
   "id": "025ab1c2-f77b-4b50-b149-1bf466c10c7d",
   "metadata": {},
   "outputs": [
    {
     "data": {
      "text/plain": [
       "{'this': 5, 'is': 2, 'line': 3, 'second': 4, 'again': 0, 'another': 1}"
      ]
     },
     "execution_count": 8,
     "metadata": {},
     "output_type": "execute_result"
    }
   ],
   "source": [
    "cv.vocabulary_"
   ]
  },
  {
   "cell_type": "code",
   "execution_count": 9,
   "id": "e40f7681-90e8-4209-a986-a9b94d4766fe",
   "metadata": {},
   "outputs": [],
   "source": [
    "from sklearn.feature_extraction.text import TfidfTransformer"
   ]
  },
  {
   "cell_type": "code",
   "execution_count": 10,
   "id": "d8dbe5d4-28a0-40e0-bb87-2120bf6b014d",
   "metadata": {},
   "outputs": [],
   "source": [
    "tfidf = TfidfTransformer()"
   ]
  },
  {
   "cell_type": "code",
   "execution_count": 13,
   "id": "75227bbb-bd68-4eb8-9ec7-f7e778f04d4a",
   "metadata": {},
   "outputs": [],
   "source": [
    "tfidf_matrix = tfidf.fit_transform(sparse_matrix)"
   ]
  },
  {
   "cell_type": "code",
   "execution_count": 14,
   "id": "9c3c69a3-bfc3-40fe-b556-ade27ee2f50f",
   "metadata": {},
   "outputs": [
    {
     "data": {
      "text/plain": [
       "<3x6 sparse matrix of type '<class 'numpy.float64'>'\n",
       "\twith 12 stored elements in Compressed Sparse Row format>"
      ]
     },
     "execution_count": 14,
     "metadata": {},
     "output_type": "execute_result"
    }
   ],
   "source": [
    "tfidf_matrix"
   ]
  },
  {
   "cell_type": "code",
   "execution_count": 15,
   "id": "da6e1c38-1d90-45d8-b3f6-34f388f5d5fd",
   "metadata": {},
   "outputs": [
    {
     "data": {
      "text/plain": [
       "matrix([[0.        , 0.        , 0.57735027, 0.57735027, 0.        ,\n",
       "         0.57735027],\n",
       "        [0.        , 0.        , 0.41285857, 0.41285857, 0.69903033,\n",
       "         0.41285857],\n",
       "        [0.57292883, 0.57292883, 0.338381  , 0.338381  , 0.        ,\n",
       "         0.338381  ]])"
      ]
     },
     "execution_count": 15,
     "metadata": {},
     "output_type": "execute_result"
    }
   ],
   "source": [
    "tfidf_matrix.todense()"
   ]
  },
  {
   "cell_type": "code",
   "execution_count": 16,
   "id": "326bf544-9db1-4b6e-be38-cea8721e08fa",
   "metadata": {},
   "outputs": [],
   "source": [
    "from sklearn.feature_extraction.text import TfidfVectorizer"
   ]
  },
  {
   "cell_type": "code",
   "execution_count": 17,
   "id": "c8227dd1-dfc9-4c92-af96-a049a61386ee",
   "metadata": {},
   "outputs": [],
   "source": [
    "tv = TfidfVectorizer()"
   ]
  },
  {
   "cell_type": "code",
   "execution_count": 18,
   "id": "9ec805b5-8d1d-4731-9211-de2315655cb7",
   "metadata": {},
   "outputs": [],
   "source": [
    "tfidf_mat = tv.fit_transform(text)"
   ]
  },
  {
   "cell_type": "code",
   "execution_count": 19,
   "id": "f4ded739-4a76-478a-88f1-b0d002a2d996",
   "metadata": {},
   "outputs": [
    {
     "data": {
      "text/plain": [
       "matrix([[0.        , 0.        , 0.57735027, 0.57735027, 0.        ,\n",
       "         0.57735027],\n",
       "        [0.        , 0.        , 0.41285857, 0.41285857, 0.69903033,\n",
       "         0.41285857],\n",
       "        [0.57292883, 0.57292883, 0.338381  , 0.338381  , 0.        ,\n",
       "         0.338381  ]])"
      ]
     },
     "execution_count": 19,
     "metadata": {},
     "output_type": "execute_result"
    }
   ],
   "source": [
    "tfidf_mat.todense()"
   ]
  },
  {
   "cell_type": "code",
   "execution_count": null,
   "id": "f727904a-6538-4b2b-bc06-2c46e2c462e9",
   "metadata": {},
   "outputs": [],
   "source": []
  }
 ],
 "metadata": {
  "kernelspec": {
   "display_name": "Python 3 (ipykernel)",
   "language": "python",
   "name": "python3"
  },
  "language_info": {
   "codemirror_mode": {
    "name": "ipython",
    "version": 3
   },
   "file_extension": ".py",
   "mimetype": "text/x-python",
   "name": "python",
   "nbconvert_exporter": "python",
   "pygments_lexer": "ipython3",
   "version": "3.11.7"
  }
 },
 "nbformat": 4,
 "nbformat_minor": 5
}
