{
 "cells": [
  {
   "cell_type": "code",
   "execution_count": null,
   "id": "52e2b53d",
   "metadata": {},
   "outputs": [],
   "source": [
    "import numpy as np\n",
    "import pandas as pd\n",
    "import matplotlib.pyplot as plt\n",
    "import seaborn as sns"
   ]
  },
  {
   "cell_type": "code",
   "execution_count": null,
   "id": "a7399f09",
   "metadata": {},
   "outputs": [],
   "source": [
    "df = pd.read_csv('dm_office_sales.csv')\n",
    "df.head()"
   ]
  },
  {
   "cell_type": "code",
   "execution_count": null,
   "id": "e4460cdc",
   "metadata": {},
   "outputs": [],
   "source": [
    "plt.figure(figsize=(12,8))\n",
    "sns.scatterplot(x='salary',y='sales',data=df,hue='level of education',s=100,style='level of education',alpha=0.3)"
   ]
  },
  {
   "cell_type": "code",
   "execution_count": null,
   "id": "442d389e",
   "metadata": {},
   "outputs": [],
   "source": [
    "sns.rugplot(x='salary',data=df,height=0.5)"
   ]
  },
  {
   "cell_type": "code",
   "execution_count": null,
   "id": "6e8dd1f7",
   "metadata": {},
   "outputs": [],
   "source": [
    "sns.displot(x='salary',data=df,bins=100,kde=True)"
   ]
  },
  {
   "cell_type": "code",
   "execution_count": null,
   "id": "a054478d",
   "metadata": {},
   "outputs": [],
   "source": [
    "sns.kdeplot(x='salary',data=df)"
   ]
  },
  {
   "cell_type": "code",
   "execution_count": null,
   "id": "67cdfb89",
   "metadata": {},
   "outputs": [],
   "source": [
    "np.random.seed(42)\n",
    "sample_ages=np.random.randint(0,100,200)\n",
    "sample_ages"
   ]
  },
  {
   "cell_type": "code",
   "execution_count": null,
   "id": "f6b31626",
   "metadata": {},
   "outputs": [],
   "source": [
    "sample_ages=pd.DataFrame(sample_ages,columns=['age'])"
   ]
  },
  {
   "cell_type": "code",
   "execution_count": null,
   "id": "4c655846",
   "metadata": {},
   "outputs": [],
   "source": [
    "sample_ages"
   ]
  },
  {
   "cell_type": "code",
   "execution_count": null,
   "id": "4c234f22",
   "metadata": {},
   "outputs": [],
   "source": [
    "sns.rugplot(x='age',data=sample_ages)"
   ]
  },
  {
   "cell_type": "code",
   "execution_count": null,
   "id": "a2158ded",
   "metadata": {},
   "outputs": [],
   "source": [
    "sns.displot(x='age',data=sample_ages,rug=True,kde=True,bins=30)"
   ]
  },
  {
   "cell_type": "code",
   "execution_count": null,
   "id": "4f38cf44",
   "metadata": {},
   "outputs": [],
   "source": [
    "sns.kdeplot(x='age',data=sample_ages,shade=True)"
   ]
  },
  {
   "cell_type": "code",
   "execution_count": null,
   "id": "48038144",
   "metadata": {},
   "outputs": [],
   "source": [
    "df['division'].value_counts()"
   ]
  },
  {
   "cell_type": "code",
   "execution_count": null,
   "id": "4e522c2a",
   "metadata": {},
   "outputs": [],
   "source": [
    "plt.figure(figsize=(10,4),dpi=200)\n",
    "sns.countplot(data=df,x='division')"
   ]
  },
  {
   "cell_type": "code",
   "execution_count": null,
   "id": "d27e7341",
   "metadata": {},
   "outputs": [],
   "source": [
    "plt.figure(figsize=(10,4),dpi=200)\n",
    "sns.barplot(data=df,x='level of education',y='salary',estimator=np.mean,ci='sd',hue='division')"
   ]
  },
  {
   "cell_type": "code",
   "execution_count": null,
   "id": "3a5de0fb",
   "metadata": {},
   "outputs": [],
   "source": [
    "df = pd.read_csv(\"StudentsPerformance.csv\")\n",
    "df"
   ]
  },
  {
   "cell_type": "code",
   "execution_count": null,
   "id": "597f8610",
   "metadata": {},
   "outputs": [],
   "source": [
    "plt.figure(figsize=(10,4),dpi=200)\n",
    "sns.boxplot(data=df,y='math score',x='parental level of education',hue='test preparation course')\n",
    "plt.legend(bbox_to_anchor=(1.05,0.5))"
   ]
  },
  {
   "cell_type": "code",
   "execution_count": null,
   "id": "4f7f34ce",
   "metadata": {},
   "outputs": [],
   "source": [
    "#sns.jointplot(data=df,x='math score',y='reading score',kind='hex')\n",
    "#sns.jointplot(data=df,x='math score',y='reading score',kind='kde',shade=True)\n",
    "sns.jointplot(data=df,x='math score',y='reading score',hue='gender')"
   ]
  },
  {
   "cell_type": "code",
   "execution_count": null,
   "id": "4cc6a38f",
   "metadata": {},
   "outputs": [],
   "source": [
    "sns.pairplot(data=df,hue='gender')\n",
    "#sns.pairplot(data=df,hue='gender',corner=True)"
   ]
  },
  {
   "cell_type": "code",
   "execution_count": null,
   "id": "29322d12",
   "metadata": {},
   "outputs": [],
   "source": [
    "df = pd.read_csv(\"country_table.csv\")\n",
    "df"
   ]
  },
  {
   "cell_type": "code",
   "execution_count": null,
   "id": "cbbd0710",
   "metadata": {},
   "outputs": [],
   "source": [
    "df = df.set_index(\"Countries\")"
   ]
  },
  {
   "cell_type": "code",
   "execution_count": null,
   "id": "2e2925fd",
   "metadata": {},
   "outputs": [],
   "source": [
    "df"
   ]
  },
  {
   "cell_type": "code",
   "execution_count": null,
   "id": "c064a660",
   "metadata": {},
   "outputs": [],
   "source": [
    "sns.heatmap(df)"
   ]
  },
  {
   "cell_type": "code",
   "execution_count": null,
   "id": "3729699d",
   "metadata": {},
   "outputs": [],
   "source": [
    "sns.heatmap(df.drop('Life expectancy',axis=1),linewidth=0.5,annot=True,cmap='viridis')"
   ]
  },
  {
   "cell_type": "code",
   "execution_count": null,
   "id": "2b32618d",
   "metadata": {},
   "outputs": [],
   "source": []
  }
 ],
 "metadata": {
  "kernelspec": {
   "display_name": "Python 3 (ipykernel)",
   "language": "python",
   "name": "python3"
  },
  "language_info": {
   "codemirror_mode": {
    "name": "ipython",
    "version": 3
   },
   "file_extension": ".py",
   "mimetype": "text/x-python",
   "name": "python",
   "nbconvert_exporter": "python",
   "pygments_lexer": "ipython3",
   "version": "3.11.7"
  }
 },
 "nbformat": 4,
 "nbformat_minor": 5
}
