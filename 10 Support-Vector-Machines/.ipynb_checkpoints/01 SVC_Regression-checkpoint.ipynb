{
 "cells": [
  {
   "cell_type": "code",
   "execution_count": null,
   "id": "d8e01614-652e-47e9-978c-b11035893644",
   "metadata": {},
   "outputs": [],
   "source": [
    "import numpy as np\n",
    "import pandas as pd\n",
    "import seaborn as sns\n",
    "import matplotlib.pyplot as plt"
   ]
  },
  {
   "cell_type": "code",
   "execution_count": null,
   "id": "6ff8db07-f955-4b56-890e-bc0258790c38",
   "metadata": {},
   "outputs": [],
   "source": [
    "df = pd.read_csv('../DATA/cement_slump.csv')"
   ]
  },
  {
   "cell_type": "code",
   "execution_count": null,
   "id": "28bd7726-ca91-4469-9744-e38f9505dabc",
   "metadata": {},
   "outputs": [],
   "source": [
    "df.info()"
   ]
  },
  {
   "cell_type": "code",
   "execution_count": null,
   "id": "4906ea81-9f75-4965-9ff9-72b20da71c36",
   "metadata": {},
   "outputs": [],
   "source": [
    "df.head()"
   ]
  },
  {
   "cell_type": "code",
   "execution_count": null,
   "id": "4a4f5311-f079-439c-9f5d-5012f70a8159",
   "metadata": {},
   "outputs": [],
   "source": [
    "plt.figure(figsize=(8,8),dpi=200)\n",
    "sns.heatmap(df.corr(),annot=True)"
   ]
  },
  {
   "cell_type": "code",
   "execution_count": null,
   "id": "c020e0a4-112d-4376-82bb-9fa7998e8ca5",
   "metadata": {},
   "outputs": [],
   "source": [
    "df.columns"
   ]
  },
  {
   "cell_type": "code",
   "execution_count": null,
   "id": "3e24656b-5e9f-40b9-b12e-19f892963410",
   "metadata": {},
   "outputs": [],
   "source": [
    "X = df.drop('Compressive Strength (28-day)(Mpa)',axis=1)"
   ]
  },
  {
   "cell_type": "code",
   "execution_count": null,
   "id": "6b4c7b7d-9ad3-4398-8a6e-c934f1460589",
   "metadata": {},
   "outputs": [],
   "source": [
    "y = df['Compressive Strength (28-day)(Mpa)']"
   ]
  },
  {
   "cell_type": "code",
   "execution_count": null,
   "id": "61fe0cf2-d29b-4963-910e-f97700f47590",
   "metadata": {},
   "outputs": [],
   "source": [
    "from sklearn.model_selection import train_test_split"
   ]
  },
  {
   "cell_type": "code",
   "execution_count": null,
   "id": "2b18745d-1248-4700-86a7-d8a8ab18bbf6",
   "metadata": {},
   "outputs": [],
   "source": [
    "X_train, X_test, y_train, y_test = train_test_split(X, y, test_size=0.3, random_state=101)"
   ]
  },
  {
   "cell_type": "code",
   "execution_count": null,
   "id": "105c12a7-e568-41ac-b320-a3df6652e626",
   "metadata": {},
   "outputs": [],
   "source": [
    "from sklearn.preprocessing import StandardScaler\n",
    "scaler = StandardScaler()\n",
    "scaled_X_train = scaler.fit_transform(X_train) \n",
    "scaled_X_test = scaler.transform(X_test)"
   ]
  },
  {
   "cell_type": "code",
   "execution_count": null,
   "id": "c4ba0f9b-4ac4-4fec-a571-d7b992d661e8",
   "metadata": {},
   "outputs": [],
   "source": [
    "from sklearn.svm import SVR"
   ]
  },
  {
   "cell_type": "code",
   "execution_count": null,
   "id": "89825b79-3a07-422f-89bb-7f14b180653a",
   "metadata": {},
   "outputs": [],
   "source": [
    "help(SVR)"
   ]
  },
  {
   "cell_type": "code",
   "execution_count": null,
   "id": "cb780a22-c22c-4906-b0fb-c125655f65ae",
   "metadata": {},
   "outputs": [],
   "source": [
    "base_model = SVR()\n",
    "base_model.fit(scaled_X_train,y_train)"
   ]
  },
  {
   "cell_type": "code",
   "execution_count": null,
   "id": "9846164b-9af4-4e22-a7d5-038feb80cd3c",
   "metadata": {},
   "outputs": [],
   "source": [
    "base_pred = base_model.predict(scaled_X_test)\n"
   ]
  },
  {
   "cell_type": "code",
   "execution_count": null,
   "id": "c6a61476-e0a5-4834-8163-31cc6e46f531",
   "metadata": {},
   "outputs": [],
   "source": [
    "from sklearn.metrics import mean_absolute_error,mean_squared_error"
   ]
  },
  {
   "cell_type": "code",
   "execution_count": null,
   "id": "1a0c6051-dd77-465e-8209-067be7423d70",
   "metadata": {},
   "outputs": [],
   "source": [
    "mean_absolute_error(y_test,base_pred)"
   ]
  },
  {
   "cell_type": "code",
   "execution_count": null,
   "id": "533063e0-2608-4f64-be47-dc216655c643",
   "metadata": {},
   "outputs": [],
   "source": [
    "np.sqrt(mean_squared_error(y_test,base_pred))"
   ]
  },
  {
   "cell_type": "code",
   "execution_count": null,
   "id": "4439dfc6-fc62-4fcb-801c-390f77b281d1",
   "metadata": {},
   "outputs": [],
   "source": [
    "param_grid = {'C':[0.001,0.01,0.1,1,0.5,1,2],'kernel':['linear','rbf','poly'],'gamma':['scale','auto'],'degree':[1,2,3,4],'epsilon':[0,0.01,0.1,1,0.5,2]}\n"
   ]
  },
  {
   "cell_type": "code",
   "execution_count": null,
   "id": "4c49d47f-c5a8-48b4-9dfb-0ec2e0f785fb",
   "metadata": {},
   "outputs": [],
   "source": [
    "from sklearn.model_selection import GridSearchCV\n",
    "svr = SVR()\n",
    "grid = GridSearchCV(svr,param_grid)"
   ]
  },
  {
   "cell_type": "code",
   "execution_count": null,
   "id": "f90f449c-97a1-4dac-9b34-aa68bf316ea2",
   "metadata": {},
   "outputs": [],
   "source": [
    "grid.fit(scaled_X_train,y_train)"
   ]
  },
  {
   "cell_type": "code",
   "execution_count": null,
   "id": "e9c71399-9ebd-47bf-b95c-bef0a54a3d38",
   "metadata": {},
   "outputs": [],
   "source": [
    "grid.best_params_"
   ]
  },
  {
   "cell_type": "code",
   "execution_count": null,
   "id": "522a027f-8fbb-4f89-b989-505a4b87040a",
   "metadata": {},
   "outputs": [],
   "source": [
    "grid_pred = grid.predict(scaled_X_test)"
   ]
  },
  {
   "cell_type": "code",
   "execution_count": null,
   "id": "d48bf79a-cbc3-42ba-8434-381eaa5d1b0e",
   "metadata": {},
   "outputs": [],
   "source": [
    "mean_absolute_error(y_test,grid_pred)"
   ]
  },
  {
   "cell_type": "code",
   "execution_count": null,
   "id": "9963c9d5-bb19-4f73-b25f-ade7be57e45d",
   "metadata": {},
   "outputs": [],
   "source": [
    "np.sqrt(mean_squared_error(y_test,grid_pred))"
   ]
  },
  {
   "cell_type": "code",
   "execution_count": null,
   "id": "22efbf22-45c0-43b7-9f4f-a234bdfa01cd",
   "metadata": {},
   "outputs": [],
   "source": []
  }
 ],
 "metadata": {
  "kernelspec": {
   "display_name": "Python 3 (ipykernel)",
   "language": "python",
   "name": "python3"
  },
  "language_info": {
   "codemirror_mode": {
    "name": "ipython",
    "version": 3
   },
   "file_extension": ".py",
   "mimetype": "text/x-python",
   "name": "python",
   "nbconvert_exporter": "python",
   "pygments_lexer": "ipython3",
   "version": "3.11.7"
  }
 },
 "nbformat": 4,
 "nbformat_minor": 5
}
