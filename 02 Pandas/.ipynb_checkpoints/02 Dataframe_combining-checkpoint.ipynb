{
 "cells": [
  {
   "cell_type": "code",
   "execution_count": null,
   "id": "1796fe91",
   "metadata": {},
   "outputs": [],
   "source": [
    "import numpy as np\n",
    "import pandas as pd"
   ]
  },
  {
   "cell_type": "code",
   "execution_count": null,
   "id": "ca0371f4",
   "metadata": {},
   "outputs": [],
   "source": [
    "data_one = {'A': ['A0', 'A1', 'A2', 'A3'],'B': ['B0', 'B1', 'B2', 'B3']}\n",
    "data_two = {'C': ['C0', 'C1', 'C2', 'C3'], 'D': ['D0', 'D1', 'D2', 'D3']}"
   ]
  },
  {
   "cell_type": "code",
   "execution_count": null,
   "id": "e5a8caf5",
   "metadata": {},
   "outputs": [],
   "source": [
    "one = pd.DataFrame(data_one)\n",
    "two = pd.DataFrame(data_two)"
   ]
  },
  {
   "cell_type": "code",
   "execution_count": null,
   "id": "d0293935",
   "metadata": {},
   "outputs": [],
   "source": [
    "one"
   ]
  },
  {
   "cell_type": "code",
   "execution_count": null,
   "id": "b0f13602",
   "metadata": {},
   "outputs": [],
   "source": [
    "two"
   ]
  },
  {
   "cell_type": "code",
   "execution_count": null,
   "id": "ee865ca6",
   "metadata": {},
   "outputs": [],
   "source": [
    "pd.concat([one,two],axis=1) #column"
   ]
  },
  {
   "cell_type": "code",
   "execution_count": null,
   "id": "f281baa5",
   "metadata": {},
   "outputs": [],
   "source": [
    "pd.concat([one,two],axis=0)"
   ]
  },
  {
   "cell_type": "code",
   "execution_count": null,
   "id": "6c030f42",
   "metadata": {},
   "outputs": [],
   "source": [
    "two.columns = one.columns"
   ]
  },
  {
   "cell_type": "code",
   "execution_count": null,
   "id": "30e182c0",
   "metadata": {},
   "outputs": [],
   "source": [
    "two"
   ]
  },
  {
   "cell_type": "code",
   "execution_count": null,
   "id": "4ae0c275",
   "metadata": {},
   "outputs": [],
   "source": [
    "pd.concat([one,two],axis=0)"
   ]
  },
  {
   "cell_type": "code",
   "execution_count": null,
   "id": "9426828b",
   "metadata": {},
   "outputs": [],
   "source": [
    "my_df = pd.concat([one,two],axis=0)"
   ]
  },
  {
   "cell_type": "code",
   "execution_count": null,
   "id": "ff2b98a8",
   "metadata": {},
   "outputs": [],
   "source": [
    "my_df.index = range(len(my_df))"
   ]
  },
  {
   "cell_type": "code",
   "execution_count": null,
   "id": "9b5177b9",
   "metadata": {},
   "outputs": [],
   "source": [
    "my_df"
   ]
  },
  {
   "cell_type": "code",
   "execution_count": null,
   "id": "6776eb09",
   "metadata": {},
   "outputs": [],
   "source": [
    "#Merge\n",
    "registrations = pd.DataFrame({'reg_id':[1,2,3,4],'name':['Andrew','Bobo','Claire','David']})\n",
    "logins = pd.DataFrame({'log_id':[1,2,3,4],'name':['Xavier','Andrew','Yolanda','Bobo']})"
   ]
  },
  {
   "cell_type": "code",
   "execution_count": null,
   "id": "4ba21be1",
   "metadata": {},
   "outputs": [],
   "source": [
    "registrations"
   ]
  },
  {
   "cell_type": "code",
   "execution_count": null,
   "id": "d8adb949",
   "metadata": {},
   "outputs": [],
   "source": [
    "logins"
   ]
  },
  {
   "cell_type": "code",
   "execution_count": null,
   "id": "38af4808",
   "metadata": {},
   "outputs": [],
   "source": [
    "pd.merge(registrations,logins,how='inner',on='name')"
   ]
  },
  {
   "cell_type": "code",
   "execution_count": null,
   "id": "75ab3e09",
   "metadata": {},
   "outputs": [],
   "source": [
    "pd.merge(registrations,logins,how='left',on='name')"
   ]
  },
  {
   "cell_type": "code",
   "execution_count": null,
   "id": "40fa9c26",
   "metadata": {},
   "outputs": [],
   "source": [
    "pd.merge(registrations,logins,how='right',on='name')"
   ]
  },
  {
   "cell_type": "code",
   "execution_count": null,
   "id": "51745cbb",
   "metadata": {},
   "outputs": [],
   "source": [
    "pd.merge(registrations,logins,how='outer',on='name')"
   ]
  },
  {
   "cell_type": "code",
   "execution_count": null,
   "id": "a9db4a15",
   "metadata": {},
   "outputs": [],
   "source": [
    "registrations = registrations.set_index('name')"
   ]
  },
  {
   "cell_type": "code",
   "execution_count": null,
   "id": "acefedcd",
   "metadata": {},
   "outputs": [],
   "source": [
    "registrations"
   ]
  },
  {
   "cell_type": "code",
   "execution_count": null,
   "id": "a717b903",
   "metadata": {},
   "outputs": [],
   "source": [
    "pd.merge(registrations,logins,how='inner',left_index=True,right_on='name')"
   ]
  },
  {
   "cell_type": "code",
   "execution_count": null,
   "id": "85e65f1e",
   "metadata": {},
   "outputs": [],
   "source": [
    "registrations = registrations.reset_index()\n",
    "registrations.columns = ['reg_name','reg_id']"
   ]
  },
  {
   "cell_type": "code",
   "execution_count": null,
   "id": "3d2b8394",
   "metadata": {},
   "outputs": [],
   "source": [
    "registrations"
   ]
  },
  {
   "cell_type": "code",
   "execution_count": null,
   "id": "91c31a50",
   "metadata": {},
   "outputs": [],
   "source": [
    "logins\n"
   ]
  },
  {
   "cell_type": "code",
   "execution_count": null,
   "id": "32b9000f",
   "metadata": {},
   "outputs": [],
   "source": [
    "results = pd.merge(registrations,logins,how='inner',left_on='reg_name',right_on='name')\n",
    "results"
   ]
  },
  {
   "cell_type": "code",
   "execution_count": null,
   "id": "1f6a9ada",
   "metadata": {},
   "outputs": [],
   "source": [
    "results = results.drop('reg_name',axis=1)"
   ]
  },
  {
   "cell_type": "code",
   "execution_count": null,
   "id": "628ae939",
   "metadata": {},
   "outputs": [],
   "source": [
    "results"
   ]
  },
  {
   "cell_type": "code",
   "execution_count": null,
   "id": "0d2c5f9a",
   "metadata": {},
   "outputs": [],
   "source": [
    "#Datetime"
   ]
  },
  {
   "cell_type": "code",
   "execution_count": null,
   "id": "ca9d2302",
   "metadata": {},
   "outputs": [],
   "source": [
    "import numpy as np\n",
    "import pandas as pd\n",
    "from datetime import datetime "
   ]
  },
  {
   "cell_type": "code",
   "execution_count": null,
   "id": "b717a50c",
   "metadata": {},
   "outputs": [],
   "source": [
    "myyear=2024\n",
    "mymonth = 1\n",
    "myday =1\n",
    "myhour=2\n",
    "mymin=30\n",
    "mysec=15"
   ]
  },
  {
   "cell_type": "code",
   "execution_count": null,
   "id": "7465fec3",
   "metadata": {},
   "outputs": [],
   "source": [
    "mydate = datetime(myyear,mymonth,myday)"
   ]
  },
  {
   "cell_type": "code",
   "execution_count": null,
   "id": "3d3fa538",
   "metadata": {},
   "outputs": [],
   "source": [
    "mydate"
   ]
  },
  {
   "cell_type": "code",
   "execution_count": null,
   "id": "329c98ea",
   "metadata": {},
   "outputs": [],
   "source": [
    "mydatetime=datetime(myyear,mymonth,myday,myhour,mymin,mysec)"
   ]
  },
  {
   "cell_type": "code",
   "execution_count": null,
   "id": "add00613",
   "metadata": {},
   "outputs": [],
   "source": [
    "mydatetime"
   ]
  },
  {
   "cell_type": "code",
   "execution_count": null,
   "id": "557e6347",
   "metadata": {},
   "outputs": [],
   "source": [
    "mydatetime.year"
   ]
  },
  {
   "cell_type": "code",
   "execution_count": null,
   "id": "275e3998",
   "metadata": {},
   "outputs": [],
   "source": [
    "myser = pd.Series(['Nov 3,2020','2024-01-01',None])"
   ]
  },
  {
   "cell_type": "code",
   "execution_count": null,
   "id": "d36d3f7f",
   "metadata": {},
   "outputs": [],
   "source": [
    "myser"
   ]
  },
  {
   "cell_type": "code",
   "execution_count": null,
   "id": "c2451da7",
   "metadata": {},
   "outputs": [],
   "source": [
    "myser[0].year"
   ]
  },
  {
   "cell_type": "code",
   "execution_count": null,
   "id": "4b61353d",
   "metadata": {},
   "outputs": [],
   "source": [
    "timeser = pd.to_datetime(myser)"
   ]
  },
  {
   "cell_type": "code",
   "execution_count": null,
   "id": "1e341582",
   "metadata": {},
   "outputs": [],
   "source": [
    "timeser[0].year"
   ]
  },
  {
   "cell_type": "code",
   "execution_count": null,
   "id": "76dbad8a",
   "metadata": {},
   "outputs": [],
   "source": [
    "sales=pd.read_csv(\"RetailSales_BeerWineLiquor.csv\")"
   ]
  },
  {
   "cell_type": "code",
   "execution_count": null,
   "id": "488ab494",
   "metadata": {},
   "outputs": [],
   "source": [
    "sales"
   ]
  },
  {
   "cell_type": "code",
   "execution_count": null,
   "id": "ba0bd356",
   "metadata": {},
   "outputs": [],
   "source": [
    "sales['DATE']=pd.to_datetime(sales['DATE'])"
   ]
  },
  {
   "cell_type": "code",
   "execution_count": null,
   "id": "07049306",
   "metadata": {},
   "outputs": [],
   "source": [
    "sales.info()"
   ]
  },
  {
   "cell_type": "code",
   "execution_count": null,
   "id": "977c2864",
   "metadata": {},
   "outputs": [],
   "source": [
    "sales['DATE'][0].year"
   ]
  },
  {
   "cell_type": "code",
   "execution_count": null,
   "id": "c807483b",
   "metadata": {},
   "outputs": [],
   "source": [
    "sales=pd.read_csv(\"RetailSales_BeerWineLiquor.csv\",parse_dates=['DATE'])"
   ]
  },
  {
   "cell_type": "code",
   "execution_count": null,
   "id": "e2b3cc65",
   "metadata": {},
   "outputs": [],
   "source": [
    "sales.info()"
   ]
  },
  {
   "cell_type": "code",
   "execution_count": null,
   "id": "f71b01c1",
   "metadata": {},
   "outputs": [],
   "source": [
    "sales=sales.set_index('DATE')"
   ]
  },
  {
   "cell_type": "code",
   "execution_count": null,
   "id": "8994a211",
   "metadata": {},
   "outputs": [],
   "source": [
    "sales.resample(rule='A').mean()"
   ]
  },
  {
   "cell_type": "code",
   "execution_count": null,
   "id": "9d27e547",
   "metadata": {},
   "outputs": [],
   "source": []
  }
 ],
 "metadata": {
  "kernelspec": {
   "display_name": "Python 3 (ipykernel)",
   "language": "python",
   "name": "python3"
  },
  "language_info": {
   "codemirror_mode": {
    "name": "ipython",
    "version": 3
   },
   "file_extension": ".py",
   "mimetype": "text/x-python",
   "name": "python",
   "nbconvert_exporter": "python",
   "pygments_lexer": "ipython3",
   "version": "3.11.7"
  }
 },
 "nbformat": 4,
 "nbformat_minor": 5
}
