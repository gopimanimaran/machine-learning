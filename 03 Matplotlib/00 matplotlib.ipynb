{
 "cells": [
  {
   "cell_type": "code",
   "execution_count": null,
   "id": "16d303ed",
   "metadata": {},
   "outputs": [],
   "source": [
    "import matplotlib.pyplot as plt\n",
    "import numpy as np"
   ]
  },
  {
   "cell_type": "code",
   "execution_count": null,
   "id": "99b710b1",
   "metadata": {},
   "outputs": [],
   "source": [
    "x = np.arange(0,10)"
   ]
  },
  {
   "cell_type": "code",
   "execution_count": null,
   "id": "f1dadeb0",
   "metadata": {},
   "outputs": [],
   "source": [
    "x"
   ]
  },
  {
   "cell_type": "code",
   "execution_count": null,
   "id": "877d073b",
   "metadata": {},
   "outputs": [],
   "source": [
    "y=2*x"
   ]
  },
  {
   "cell_type": "code",
   "execution_count": null,
   "id": "861cbb4f",
   "metadata": {},
   "outputs": [],
   "source": [
    "y"
   ]
  },
  {
   "cell_type": "code",
   "execution_count": null,
   "id": "f4f69921",
   "metadata": {},
   "outputs": [],
   "source": [
    "plt.plot(x,y)\n",
    "plt.title(\"My title\")\n",
    "plt.xlabel('X axis')\n",
    "plt.ylabel('Y axis')\n",
    "plt.xlim(0,6)\n",
    "plt.ylim(0,16)\n",
    "plt.savefig('myfirstfig.jpg',bbox_inches='tight')"
   ]
  },
  {
   "cell_type": "code",
   "execution_count": null,
   "id": "a6719a81",
   "metadata": {},
   "outputs": [],
   "source": [
    "a = np.linspace(0,10,11)\n",
    "a"
   ]
  },
  {
   "cell_type": "code",
   "execution_count": null,
   "id": "548ff8f7",
   "metadata": {},
   "outputs": [],
   "source": [
    "b = a**4\n",
    "b"
   ]
  },
  {
   "cell_type": "code",
   "execution_count": null,
   "id": "ea436c34",
   "metadata": {},
   "outputs": [],
   "source": [
    "fig = plt.figure()\n",
    "\n",
    "axes1 = fig.add_axes([0,0,1,1])\n",
    "axes1.plot(a,b)\n",
    "\n",
    "axes2 = fig.add_axes([0.1,0.3,0.5,0.5])\n",
    "axes2.plot(x,y)\n"
   ]
  },
  {
   "cell_type": "code",
   "execution_count": null,
   "id": "85e91158",
   "metadata": {},
   "outputs": [],
   "source": [
    "fig,axes=plt.subplots(nrows=1,ncols=1)"
   ]
  },
  {
   "cell_type": "code",
   "execution_count": null,
   "id": "871e54a6",
   "metadata": {},
   "outputs": [],
   "source": [
    "fig,axes=plt.subplots(nrows=1,ncols=2)"
   ]
  },
  {
   "cell_type": "code",
   "execution_count": null,
   "id": "b206a4c6",
   "metadata": {},
   "outputs": [],
   "source": [
    "fig,axes=plt.subplots(nrows=2,ncols=3)"
   ]
  },
  {
   "cell_type": "code",
   "execution_count": null,
   "id": "91193489",
   "metadata": {},
   "outputs": [],
   "source": [
    "fig,axes=plt.subplots(nrows=1,ncols=2)\n",
    "axes[0].plot(x,y)\n",
    "axes[1].plot(a,b)"
   ]
  },
  {
   "cell_type": "code",
   "execution_count": null,
   "id": "344de5ec",
   "metadata": {},
   "outputs": [],
   "source": [
    "fig,axes=plt.subplots(nrows=2,ncols=2)\n",
    "axes[0].plot(x,y)\n",
    "axes[1].plot(a,b)"
   ]
  },
  {
   "cell_type": "code",
   "execution_count": null,
   "id": "b55b6a24",
   "metadata": {},
   "outputs": [],
   "source": [
    "fig,axes=plt.subplots(nrows=2,ncols=2)\n",
    "axes[0][0].plot(x,y)\n",
    "axes[1][1].plot(a,b)"
   ]
  },
  {
   "cell_type": "code",
   "execution_count": null,
   "id": "d2bd0cc5",
   "metadata": {},
   "outputs": [],
   "source": [
    "x = np.linspace(0,10,11)\n",
    "fig = plt.figure()\n",
    "axes = fig.add_axes([0,0,1,1])\n",
    "#label\n",
    "#color - use google hex colour picker\n",
    "#line width \n",
    "#linestyle\n",
    "#markers and marker size\n",
    "axes.plot(x,x,label='X vs X',color='#15a33b',lw=2,ls='--',marker='x',markersize=20)\n",
    "axes.plot(x,x**2,label='X vs X square',color='#e33720',lw=1,ls='-.',marker='+')\n",
    "axes.legend(loc=(1.1,0.5))"
   ]
  },
  {
   "cell_type": "code",
   "execution_count": null,
   "id": "f0889049",
   "metadata": {},
   "outputs": [],
   "source": []
  }
 ],
 "metadata": {
  "kernelspec": {
   "display_name": "Python 3 (ipykernel)",
   "language": "python",
   "name": "python3"
  },
  "language_info": {
   "codemirror_mode": {
    "name": "ipython",
    "version": 3
   },
   "file_extension": ".py",
   "mimetype": "text/x-python",
   "name": "python",
   "nbconvert_exporter": "python",
   "pygments_lexer": "ipython3",
   "version": "3.11.7"
  }
 },
 "nbformat": 4,
 "nbformat_minor": 5
}
